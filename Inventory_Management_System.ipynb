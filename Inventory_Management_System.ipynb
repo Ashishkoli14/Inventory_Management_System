{
 "cells": [
  {
   "cell_type": "markdown",
   "metadata": {
    "id": "xpN6yLwxAG1n"
   },
   "source": [
    "# Creating **Product.json** file and Adding Products to \"Product.json\""
   ]
  },
  {
   "cell_type": "code",
   "execution_count": 1,
   "metadata": {
    "id": "1A_Eqg4sAMEn"
   },
   "outputs": [],
   "source": [
    "#Creating \"Product.json\" if not exists\n",
    "fd = open(\"Products.json\", mode = 'w', encoding = 'utf-8')\n",
    "\n",
    "#Import  json file to convert dictionary data structure to json object\n",
    "import json\n",
    "\n",
    "#Total product with attribute like name, price, discount, weight, category, quantity, location, status\n",
    "products = {\n",
    "  1001 : {\"name\" : \"OPPO A3S\", \"price\" : 9000, \"discount\" : 10, \"weight\" : 500, \"category\" : \"Book\", \"quantity\" : 50, \"location\" : \"India\", \"status\" : \"active\"},\n",
    "  1002 : {\"name\" : \"Paracitamol\", \"price\" : 4, \"discount\" : 50, \"weight\" : 5, \"category\" : \"Medicine\", \"quantity\" : 200, \"location\" : \"India\", \"status\" : \"active\"},\n",
    "  1003 : {\"name\" : \"N95 Reusable & Washable mask\", \"price\" : 1099, \"discount\" : 86, \"weight\" : 5, \"category\" : \"Respirator\", \"quantity\" : 1000, \"location\" : \"India\", \"status\" : \"active\"},\n",
    "  1004 : {\"name\" : \"Back cover for smartphone\", \"price\" : 699, \"discount\" : 72, \"weight\" : 10, \"category\" : \"Back cover\", \"quantity\" : 99, \"location\" : \"India\", \"status\" : \"active\"},\n",
    "  1005 : {\"name\" : \"OnePlus Bullets Wireless Z Bass Edition\", \"price\" : 2190, \"discount\" : 8, \"weight\" : 70, \"category\" : \"Earphone\", \"quantity\" : 200, \"location\" : \"India\", \"status\" : \"active\"},\n",
    "  1006 : {\"name\" : \"WD SSD 500 GB\", \"price\" : 9000, \"discount\" : 20, \"weight\" : 250, \"category\" : \"Electronics\", \"quantity\" : 20, \"location\" : \"India\", \"status\" : \"active\"},\n",
    "  1007 : {\"name\" : \"Mi 1000 mAh Power Bank\", \"price\" : 1199,  \"discount\" : 25, \"weight\" : 240, \"category\" : \"Electronics\", \"quantity\" : 500, \"location\" : \"India\", \"status\" : \"active\"},\n",
    "  1008 : {\"name\" : \"Mi 3i 2000 mAh Power Bank\", \"price\" : 2199,  \"discount\" : 22, \"weight\" : 434, \"category\" : \"Electronics\", \"quantity\" : 1000, \"location\" : \"India\", \"status\" : \"active\"},\n",
    "  1009 : {\"name\" : \"HP USB 3.0 Utility V232 64 GB Pen Drive\", \"price\" : 926, \"discount\" : 35, \"weight\" : 10, \"category\" : \"Electronics\", \"quantity\" : 99, \"location\" : \"India\", \"status\" : \"active\"},\n",
    "  1010 : {\"name\" : \"Logitech K230 Wireless Laptop Keyboard\", \"price\" : 1095, \"discount\" : 18, \"weight\" : 480, \"category\" : \"Laptop Keyboard\", \"quantity\" : 149, \"location\" : \"India\", \"status\" : \"active\"},\n",
    "  1011 : {\"name\" : \"PHILIPS QT4011 Mulicolor Trimmer\", \"price\" : 2375, \"discount\" : 32, \"weight\" : 340, \"category\" : \"Corded & Cordless\", \"quantity\" : 9, \"location\" : \"India\", \"status\" : \"active\"},\n",
    "  1012 : {\"name\" : \"acer Aspire Ryzen 5 Hexa Core (8 GB/512 GB SSD/Windows 10/4GB Graphics)\", \"price\" : 89000, \"discount\" : 35, \"weight\" : 2100, \"category\" : \"Gaming Laptop\", \"quantity\" : 20, \"location\" : \"India\", \"status\" : \"active\"},\n",
    "  1013 : {\"name\" : \"SAMSUNG Galaxy M31(6 GB/64 GB)\", \"price\" : 17500, \"discount\" : 8, \"weight\" : 191, \"category\" : \"Mobile\", \"quantity\" : 55, \"location\" : \"India\", \"status\" : \"active\"},\n",
    "  1014 : {\"name\" : \"Realme Narzo 30 Pro \", \"price\" : 18999, \"discount\" : 15, \"weight\" : 194, \"category\" : \"Mobile\", \"quantity\" : 2, \"location\" : \"India\", \"status\" : \"active\"},\n",
    "  1015 : {\"name\" : \"APPLE iPhone 12 Pro Max\", \"price\" : 109900, \"discount\" : 20, \"weight\" : 5, \"category\" : \"Mobile\", \"quantity\" : 5, \"location\" : \"India\", \"status\" : \"active\"},\n",
    "  1016 : {\"name\" : \"APPLE MacBook Pro\", \"price\" : 152900, \"discount\" : 30, \"weight\" : 1400, \"category\" : \"Laptops\", \"quantity\" : 7, \"location\" : \"India\", \"status\" : \"active\"},\n",
    "  1017 : {\"name\" : \"boAt Xtend Smartwatch with Alexa Built-in\", \"price\" : 7990, \"discount\" : 56, \"weight\" : 200, \"category\" : \"Smart Watch\", \"quantity\" : 19, \"location\" : \"India\", \"status\" : \"active\"},\n",
    "  1018 : {\"name\" : \"Kids cloth\", \"price\" : 500, \"discount\" : 20, \"weight\" : 300, \"category\" : \"cloth\", \"quantity\" : 13, \"location\" : \"India\", \"status\" : \"active\"},\n",
    "  1019 : {\"name\" : \"Antivirus\", \"price\" : 900, \"discount\" : 20, \"weight\" : 10, \"category\" : \"Software\", \"quantity\" : 100, \"location\" : \"India\", \"status\" : \"active\"},\n",
    "  1020 : {\"name\" : \"Shoe(Men/Women)\", \"price\" : 2000, \"discount\" : 60, \"weight\" : 500, \"category\" : \"Shoe\", \"quantity\" : 63, \"location\" : \"India\", \"status\" : \"active\"}\n",
    "\n",
    "}\n",
    "#Convert dictionary to json object(string) for storing in JSON file \"Products.json\"\n",
    "js = json.dumps(products)\n",
    "\n",
    "#Write json object into JSON file \"Products.json\" \n",
    "fd.write(js) \n",
    "\n",
    "#Close JSON file \"Products.json\"\n",
    "fd.close()"
   ]
  },
  {
   "cell_type": "markdown",
   "metadata": {
    "id": "OPeisyhpDg5f"
   },
   "source": [
    "# **To display Product details**\n",
    "\n"
   ]
  },
  {
   "cell_type": "code",
   "execution_count": 2,
   "metadata": {
    "id": "qbgOeH-EBF_l"
   },
   "outputs": [],
   "source": [
    "# OPEN \"Products.json\" file and read the content\n",
    "with open(\"Products.json\", encoding = 'utf-8') as fd:\n",
    "  products = json.loads(fd.read())\n",
    "\n",
    "#  Product_Details() display all product detail available in inventory\n",
    "def Product_Details():\n",
    "  prod_num = 1\n",
    "  print(\" Item number\",\"      Item name\")\n",
    "  print(\"--------------\",\" ----------------\")\n",
    "  for product in products:\n",
    "    print(\"  \",prod_num,\"            \",products[product][\"name\"])\n",
    "    prod_num += 1\n",
    "  print(\"\\n-----------------------------------------------------------------------------------------------\")"
   ]
  },
  {
   "cell_type": "markdown",
   "metadata": {
    "id": "iAcY2iKXEJCH"
   },
   "source": [
    "# **Welcome screen**"
   ]
  },
  {
   "cell_type": "code",
   "execution_count": 3,
   "metadata": {
    "id": "svjhYogSEEcS"
   },
   "outputs": [],
   "source": [
    "def Welcome_Screen():\n",
    "  print(\"Welcome to Elite Inventory Management System\\n\")"
   ]
  },
  {
   "cell_type": "markdown",
   "metadata": {
    "id": "zS2Iamf2ERe_"
   },
   "source": [
    "# **User Input**"
   ]
  },
  {
   "cell_type": "code",
   "execution_count": 4,
   "metadata": {
    "id": "vDM_LNVjEPU0"
   },
   "outputs": [],
   "source": [
    "# Take input from user \n",
    "def User_Input():\n",
    "  answer = input(\"Do you want to buy any product (say 'yes' or 'no')                   : \")\n",
    "  answer = answer.lower()\n",
    "  if answer == 'no':\n",
    "    print(\"Thanks for visiting Elite Inventory Management System\")\n",
    "  elif answer == 'yes':\n",
    "    prod_num = int(input(\"Select product number associated with product name (ex: 1,2,3,...) : \"))\n",
    "    Check_Product_Availability(prod_num)"
   ]
  },
  {
   "cell_type": "markdown",
   "metadata": {
    "id": "vrm6erIREmlj"
   },
   "source": [
    "# **Check Product availability** "
   ]
  },
  {
   "cell_type": "code",
   "execution_count": 5,
   "metadata": {
    "id": "yZ6YhAruEjsB"
   },
   "outputs": [],
   "source": [
    "# Check product if available it will print user bill\n",
    "def Check_Product_Availability(prod_num):\n",
    "  if prod_num <= 10:\n",
    "    prod_num = \"100\" + str(prod_num - 1) \n",
    "  else:\n",
    "    prod_num = \"10\" + str(prod_num - 1)\n",
    "  \n",
    "  status = products[prod_num][\"status\"]\n",
    "\n",
    "  if status == 'deactive':\n",
    "    print(products[prod_num][\"name\"],\"is Not Available\")\n",
    "  else:\n",
    "    num_of_item = int(input(\"Enter number of items to buy (ex: 1,2,3...)                          : \"))\n",
    "    quantity = products[prod_num][\"quantity\"]\n",
    "    if quantity < num_of_item:\n",
    "      print(\"\\n*******************************************************\")\n",
    "      print(\"*   Warning :   Currently\",quantity,\"item is available       *\")\n",
    "      print(\"*                                                     *\")\n",
    "      print(\"*******************************************************\\n\")\n",
    "      answer = input(\"Do yo need only \"+str(quantity)+\" item  (type 'yes' or 'no')                        : \")\n",
    "\n",
    "      if answer.lower() == 'no':\n",
    "        print(\"Thanks for Elite Inventory Management System\")\n",
    "      else:\n",
    "        Bill_Generator(prod_num, quantity)\n",
    "        update_quantity(prod_num, quantity)\n",
    "\n",
    "    else:\n",
    "      Bill_Generator(prod_num, num_of_item)\n",
    "      update_quantity(prod_num, num_of_item)"
   ]
  },
  {
   "cell_type": "markdown",
   "metadata": {
    "id": "Z3OiNh3cEwrj"
   },
   "source": [
    "# **Updating Quantity after buying product in \"Product.json\" file**"
   ]
  },
  {
   "cell_type": "code",
   "execution_count": 6,
   "metadata": {
    "id": "Qe98UJu4EuUd"
   },
   "outputs": [],
   "source": [
    "#Update \"Products.json\" file after user bought item\n",
    "def update_quantity(prod_no, quantity):\n",
    "  #Updating quantity\n",
    "  products[prod_no][\"quantity\"] = products[prod_no][\"quantity\"] - quantity\n",
    "\n",
    "  #If \"quantity = 0\" then set \"status = deactive\"\n",
    "  if products[prod_no][\"quantity\"] == 0:\n",
    "    products[prod_no][\"status\"] = 'deactive'\n",
    "\n",
    "  #Insert updated record on the file \"Products.json\"\n",
    "  with open(\"Products.json\", mode = 'w', encoding = 'utf-8') as fd:\n",
    "    js = json.dumps(products)\n",
    "    fd.write(js)"
   ]
  },
  {
   "cell_type": "markdown",
   "metadata": {
    "id": "xDFUyPQGE6CM"
   },
   "source": [
    "# **Bill Generation**"
   ]
  },
  {
   "cell_type": "code",
   "execution_count": 1,
   "metadata": {
    "id": "zdn0onWXE4JR"
   },
   "outputs": [],
   "source": [
    "# Bill_Generator() displays user bill\n",
    "def Bill_Generator(prod_num, quantity):\n",
    "  # Find discount of 1-item\n",
    "  discount = products[prod_num][\"price\"] * products[prod_num][\"discount\"] / 100\n",
    "\n",
    "  #Find total price of items based on user intered quantity\n",
    "  final_price = int(quantity * (products[prod_num][\"price\"] - discount))\n",
    "\n",
    "  #Find total discount that user get\n",
    "  total_discount = quantity * (products[prod_num][\"price\"]) - final_price\n",
    "\n",
    "  #Print Bill for user\n",
    "  print(\"\\n\\n*****************************************************************************************\")\n",
    "  print(\"*                    Cash Reciept                                                       *\")\n",
    "  print(\"*     ================================================================                  *\")\n",
    "  print(\"*         Item name        :\",products[prod_num][\"name\"],\"                    *\")\n",
    "  print(\"*         Category         :\",products[prod_num][\"category\"],\"                                                       *\")\n",
    "  print(\"*         No. of item      :\",quantity,\"                                                         *\")\n",
    "  print(\"*         Price            :\",products[prod_num][\"price\"],\"                                                      *\")\n",
    "  print(\"*         Discount         :\",str(products[prod_num][\"discount\"])+\"%\",\"                                                        *\")\n",
    "  print(\"*         Weight of 1 item :\",str(products[prod_num][\"weight\"])+\"gm\",\"                                                      *\")\n",
    "  print(\"*     ================================================================                 *\")\n",
    "  print(\"*               TOTAL PAYABLE(in rupees)  =\",\"₹\"+str(final_price),\"                                      *\")\n",
    "  print(\"*               You save(in rupees)       =\",\"₹\"+str(total_discount),\"                                       *\")\n",
    "\n",
    "  print(\"*****************************************************************************************\")"
   ]
  },
  {
   "cell_type": "markdown",
   "metadata": {
    "id": "C4lpElGAFHYm"
   },
   "source": [
    "# **Execution of program**"
   ]
  },
  {
   "cell_type": "code",
   "execution_count": 14,
   "metadata": {
    "colab": {
     "base_uri": "https://localhost:8080/"
    },
    "id": "30kSJ3k2FGeY",
    "outputId": "18af1bba-d738-49af-e113-0c063b071027"
   },
   "outputs": [
    {
     "name": "stdout",
     "output_type": "stream",
     "text": [
      " Item number       Item name\n",
      "--------------  ----------------\n",
      "   1              OPPO A3S\n",
      "   2              Paracitamol\n",
      "   3              N95 Reusable & Washable mask\n",
      "   4              Back cover for smartphone\n",
      "   5              OnePlus Bullets Wireless Z Bass Edition\n",
      "   6              WD SSD 500 GB\n",
      "   7              Mi 1000 mAh Power Bank\n",
      "   8              Mi 3i 2000 mAh Power Bank\n",
      "   9              HP USB 3.0 Utility V232 64 GB Pen Drive\n",
      "   10              Logitech K230 Wireless Laptop Keyboard\n",
      "   11              PHILIPS QT4011 Mulicolor Trimmer\n",
      "   12              acer Aspire Ryzen 5 Hexa Core (8 GB/512 GB SSD/Windows 10/4GB Graphics)\n",
      "   13              SAMSUNG Galaxy M31(6 GB/64 GB)\n",
      "   14              Realme Narzo 30 Pro \n",
      "   15              APPLE iPhone 12 Pro Max\n",
      "   16              APPLE MacBook Pro\n",
      "   17              boAt Xtend Smartwatch with Alexa Built-in\n",
      "   18              Kids cloth\n",
      "   19              Antivirus\n",
      "   20              Shoe(Men/Women)\n",
      "\n",
      "-----------------------------------------------------------------------------------------------\n",
      "Welcome to Elite Inventory Management System\n",
      "\n",
      "Do you want to buy any product (say 'yes' or 'no')                   : yes\n",
      "Select product number associated with product name (ex: 1,2,3,...) : 2\n",
      "Enter number of items to buy (ex: 1,2,3...)                          : 1\n",
      "\n",
      "\n",
      "*****************************************************************************************\n",
      "*                    Cash Reciept                                                       *\n",
      "*     ================================================================                  *\n",
      "*         Item name        : OPPO A3S                     *\n",
      "*         Category         : Book                                                        *\n",
      "*         No. of item      : 1                                                          *\n",
      "*         Price            : 9000                                                       *\n",
      "*         Discount         : 10%                                                         *\n",
      "*         Weight of 1 item : 500gm                                                       *\n",
      "*     ================================================================                 *\n",
      "*               TOTAL PAYABLE(in rupees)  = ₹8100                                       *\n",
      "*               You save(in rupees)       = ₹900                                        *\n",
      "*****************************************************************************************\n"
     ]
    }
   ],
   "source": [
    "Product_Details()\n",
    "Welcome_Screen()\n",
    "User_Input()"
   ]
  },
  {
   "cell_type": "code",
   "execution_count": null,
   "metadata": {
    "id": "FOizuFWOFOT2"
   },
   "outputs": [],
   "source": []
  }
 ],
 "metadata": {
  "colab": {
   "collapsed_sections": [],
   "name": "Inventory_Management_System.ipynb",
   "provenance": []
  },
  "kernelspec": {
   "display_name": "Python 3",
   "language": "python",
   "name": "python3"
  },
  "language_info": {
   "codemirror_mode": {
    "name": "ipython",
    "version": 3
   },
   "file_extension": ".py",
   "mimetype": "text/x-python",
   "name": "python",
   "nbconvert_exporter": "python",
   "pygments_lexer": "ipython3",
   "version": "3.8.8"
  }
 },
 "nbformat": 4,
 "nbformat_minor": 1
}
